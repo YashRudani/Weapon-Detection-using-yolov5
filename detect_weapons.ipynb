{
 "cells": [
  {
   "cell_type": "code",
   "execution_count": 1,
   "metadata": {},
   "outputs": [],
   "source": [
    "# !python -m pip install --upgrade pip\n",
    "\n",
    "# !pip install tensorflow==2.5.0 \n",
    "\n",
    "\n",
    "# !pip install tensorboard==2.5.0\n",
    "# !pip install torch  #YOLOv5 runs on top of PyTorch, so we need to import it to the notebook"
   ]
  },
  {
   "cell_type": "code",
   "execution_count": 2,
   "metadata": {},
   "outputs": [],
   "source": [
    "import torch"
   ]
  },
  {
   "cell_type": "code",
   "execution_count": 3,
   "metadata": {},
   "outputs": [],
   "source": [
    "from IPython.display import Image #this is to render predictions"
   ]
  },
  {
   "cell_type": "code",
   "execution_count": 4,
   "metadata": {},
   "outputs": [
    {
     "name": "stderr",
     "output_type": "stream",
     "text": [
      "Cloning into 'yolov5'...\n"
     ]
    }
   ],
   "source": [
    "!git clone https://github.com/ultralytics/yolov5"
   ]
  },
  {
   "cell_type": "code",
   "execution_count": 5,
   "metadata": {},
   "outputs": [
    {
     "name": "stdout",
     "output_type": "stream",
     "text": [
      "f:\\Projects\\weapons_detect\\yolov5\n"
     ]
    }
   ],
   "source": [
    "%cd yolov5\n"
   ]
  },
  {
   "cell_type": "code",
   "execution_count": 6,
   "metadata": {},
   "outputs": [
    {
     "name": "stdout",
     "output_type": "stream",
     "text": [
      "Collecting matplotlib>=3.2.2\n",
      "  Using cached matplotlib-3.5.2-cp39-cp39-win_amd64.whl (7.2 MB)\n",
      "Requirement already satisfied: numpy>=1.18.5 in c:\\users\\tripa\\anaconda3\\envs\\yolo_env_\\lib\\site-packages (from -r requirements.txt (line 6)) (1.19.5)\n",
      "Collecting opencv-python>=4.1.1\n",
      "  Using cached opencv_python-4.6.0.66-cp36-abi3-win_amd64.whl (35.6 MB)\n",
      "Collecting Pillow>=7.1.2\n",
      "  Using cached Pillow-9.2.0-cp39-cp39-win_amd64.whl (3.3 MB)\n",
      "Collecting PyYAML>=5.3.1\n",
      "  Using cached PyYAML-6.0-cp39-cp39-win_amd64.whl (151 kB)\n",
      "Requirement already satisfied: requests>=2.23.0 in c:\\users\\tripa\\anaconda3\\envs\\yolo_env_\\lib\\site-packages (from -r requirements.txt (line 10)) (2.28.1)\n",
      "Collecting scipy>=1.4.1\n",
      "  Using cached scipy-1.8.1-cp39-cp39-win_amd64.whl (36.9 MB)\n",
      "Requirement already satisfied: torch>=1.7.0 in c:\\users\\tripa\\anaconda3\\envs\\yolo_env_\\lib\\site-packages (from -r requirements.txt (line 12)) (1.12.0)\n",
      "Collecting torchvision>=0.8.1\n",
      "  Using cached torchvision-0.13.0-cp39-cp39-win_amd64.whl (1.1 MB)\n",
      "Collecting tqdm>=4.64.0\n",
      "  Using cached tqdm-4.64.0-py2.py3-none-any.whl (78 kB)\n",
      "Requirement already satisfied: protobuf<4.21.3 in c:\\users\\tripa\\anaconda3\\envs\\yolo_env_\\lib\\site-packages (from -r requirements.txt (line 15)) (3.19.4)\n",
      "Requirement already satisfied: tensorboard>=2.4.1 in c:\\users\\tripa\\anaconda3\\envs\\yolo_env_\\lib\\site-packages (from -r requirements.txt (line 18)) (2.5.0)\n",
      "Collecting pandas>=1.1.4\n",
      "  Using cached pandas-1.4.3-cp39-cp39-win_amd64.whl (10.6 MB)\n",
      "Collecting seaborn>=0.11.0\n",
      "  Using cached seaborn-0.11.2-py3-none-any.whl (292 kB)\n",
      "Requirement already satisfied: ipython in c:\\users\\tripa\\anaconda3\\envs\\yolo_env_\\lib\\site-packages (from -r requirements.txt (line 37)) (8.4.0)\n",
      "Collecting psutil\n",
      "  Using cached psutil-5.9.1-cp39-cp39-win_amd64.whl (245 kB)Note: you may need to restart the kernel to use updated packages.\n",
      "\n",
      "Collecting thop>=0.1.1\n",
      "  Using cached thop-0.1.1.post2207130030-py3-none-any.whl (15 kB)\n",
      "Collecting packaging>=20.0\n",
      "  Using cached packaging-21.3-py3-none-any.whl (40 kB)\n",
      "Collecting pyparsing>=2.2.1\n",
      "  Using cached pyparsing-3.0.9-py3-none-any.whl (98 kB)\n",
      "Requirement already satisfied: python-dateutil>=2.7 in c:\\users\\tripa\\anaconda3\\envs\\yolo_env_\\lib\\site-packages (from matplotlib>=3.2.2->-r requirements.txt (line 5)) (2.8.2)\n",
      "Collecting kiwisolver>=1.0.1\n",
      "  Using cached kiwisolver-1.4.4-cp39-cp39-win_amd64.whl (55 kB)\n",
      "Collecting fonttools>=4.22.0\n",
      "  Using cached fonttools-4.34.4-py3-none-any.whl (944 kB)\n",
      "Collecting cycler>=0.10\n",
      "  Using cached cycler-0.11.0-py3-none-any.whl (6.4 kB)\n",
      "Requirement already satisfied: charset-normalizer<3,>=2 in c:\\users\\tripa\\anaconda3\\envs\\yolo_env_\\lib\\site-packages (from requests>=2.23.0->-r requirements.txt (line 10)) (2.1.0)\n",
      "Requirement already satisfied: urllib3<1.27,>=1.21.1 in c:\\users\\tripa\\anaconda3\\envs\\yolo_env_\\lib\\site-packages (from requests>=2.23.0->-r requirements.txt (line 10)) (1.26.11)\n",
      "Requirement already satisfied: idna<4,>=2.5 in c:\\users\\tripa\\anaconda3\\envs\\yolo_env_\\lib\\site-packages (from requests>=2.23.0->-r requirements.txt (line 10)) (3.3)\n",
      "Requirement already satisfied: certifi>=2017.4.17 in c:\\users\\tripa\\anaconda3\\envs\\yolo_env_\\lib\\site-packages (from requests>=2.23.0->-r requirements.txt (line 10)) (2022.6.15)\n",
      "Requirement already satisfied: typing-extensions in c:\\users\\tripa\\anaconda3\\envs\\yolo_env_\\lib\\site-packages (from torch>=1.7.0->-r requirements.txt (line 12)) (3.7.4.3)\n",
      "Requirement already satisfied: colorama in c:\\users\\tripa\\anaconda3\\envs\\yolo_env_\\lib\\site-packages (from tqdm>=4.64.0->-r requirements.txt (line 14)) (0.4.5)\n",
      "Requirement already satisfied: absl-py>=0.4 in c:\\users\\tripa\\anaconda3\\envs\\yolo_env_\\lib\\site-packages (from tensorboard>=2.4.1->-r requirements.txt (line 18)) (0.15.0)\n",
      "Requirement already satisfied: setuptools>=41.0.0 in c:\\users\\tripa\\anaconda3\\envs\\yolo_env_\\lib\\site-packages (from tensorboard>=2.4.1->-r requirements.txt (line 18)) (61.2.0)\n",
      "Requirement already satisfied: markdown>=2.6.8 in c:\\users\\tripa\\anaconda3\\envs\\yolo_env_\\lib\\site-packages (from tensorboard>=2.4.1->-r requirements.txt (line 18)) (3.4.1)\n",
      "Requirement already satisfied: grpcio>=1.24.3 in c:\\users\\tripa\\anaconda3\\envs\\yolo_env_\\lib\\site-packages (from tensorboard>=2.4.1->-r requirements.txt (line 18)) (1.34.1)\n",
      "Requirement already satisfied: tensorboard-plugin-wit>=1.6.0 in c:\\users\\tripa\\anaconda3\\envs\\yolo_env_\\lib\\site-packages (from tensorboard>=2.4.1->-r requirements.txt (line 18)) (1.8.1)\n",
      "Requirement already satisfied: tensorboard-data-server<0.7.0,>=0.6.0 in c:\\users\\tripa\\anaconda3\\envs\\yolo_env_\\lib\\site-packages (from tensorboard>=2.4.1->-r requirements.txt (line 18)) (0.6.1)\n",
      "Requirement already satisfied: werkzeug>=0.11.15 in c:\\users\\tripa\\anaconda3\\envs\\yolo_env_\\lib\\site-packages (from tensorboard>=2.4.1->-r requirements.txt (line 18)) (2.2.0)\n",
      "Requirement already satisfied: google-auth<2,>=1.6.3 in c:\\users\\tripa\\anaconda3\\envs\\yolo_env_\\lib\\site-packages (from tensorboard>=2.4.1->-r requirements.txt (line 18)) (1.35.0)\n",
      "Requirement already satisfied: google-auth-oauthlib<0.5,>=0.4.1 in c:\\users\\tripa\\anaconda3\\envs\\yolo_env_\\lib\\site-packages (from tensorboard>=2.4.1->-r requirements.txt (line 18)) (0.4.6)\n",
      "Requirement already satisfied: wheel>=0.26 in c:\\users\\tripa\\anaconda3\\envs\\yolo_env_\\lib\\site-packages (from tensorboard>=2.4.1->-r requirements.txt (line 18)) (0.37.1)\n",
      "Collecting pytz>=2020.1\n",
      "  Using cached pytz-2022.1-py2.py3-none-any.whl (503 kB)\n",
      "Requirement already satisfied: pygments>=2.4.0 in c:\\users\\tripa\\anaconda3\\envs\\yolo_env_\\lib\\site-packages (from ipython->-r requirements.txt (line 37)) (2.11.2)\n",
      "Requirement already satisfied: backcall in c:\\users\\tripa\\anaconda3\\envs\\yolo_env_\\lib\\site-packages (from ipython->-r requirements.txt (line 37)) (0.2.0)\n",
      "Requirement already satisfied: jedi>=0.16 in c:\\users\\tripa\\anaconda3\\envs\\yolo_env_\\lib\\site-packages (from ipython->-r requirements.txt (line 37)) (0.18.1)\n",
      "Requirement already satisfied: traitlets>=5 in c:\\users\\tripa\\anaconda3\\envs\\yolo_env_\\lib\\site-packages (from ipython->-r requirements.txt (line 37)) (5.1.1)\n",
      "Requirement already satisfied: matplotlib-inline in c:\\users\\tripa\\anaconda3\\envs\\yolo_env_\\lib\\site-packages (from ipython->-r requirements.txt (line 37)) (0.1.2)\n",
      "Requirement already satisfied: decorator in c:\\users\\tripa\\anaconda3\\envs\\yolo_env_\\lib\\site-packages (from ipython->-r requirements.txt (line 37)) (5.1.1)\n",
      "Requirement already satisfied: stack-data in c:\\users\\tripa\\anaconda3\\envs\\yolo_env_\\lib\\site-packages (from ipython->-r requirements.txt (line 37)) (0.2.0)\n",
      "Requirement already satisfied: pickleshare in c:\\users\\tripa\\anaconda3\\envs\\yolo_env_\\lib\\site-packages (from ipython->-r requirements.txt (line 37)) (0.7.5)\n",
      "Requirement already satisfied: prompt-toolkit!=3.0.0,!=3.0.1,<3.1.0,>=2.0.0 in c:\\users\\tripa\\anaconda3\\envs\\yolo_env_\\lib\\site-packages (from ipython->-r requirements.txt (line 37)) (3.0.20)\n",
      "Requirement already satisfied: six in c:\\users\\tripa\\anaconda3\\envs\\yolo_env_\\lib\\site-packages (from absl-py>=0.4->tensorboard>=2.4.1->-r requirements.txt (line 18)) (1.16.0)\n",
      "Requirement already satisfied: rsa<5,>=3.1.4 in c:\\users\\tripa\\anaconda3\\envs\\yolo_env_\\lib\\site-packages (from google-auth<2,>=1.6.3->tensorboard>=2.4.1->-r requirements.txt (line 18)) (4.9)\n",
      "Requirement already satisfied: cachetools<5.0,>=2.0.0 in c:\\users\\tripa\\anaconda3\\envs\\yolo_env_\\lib\\site-packages (from google-auth<2,>=1.6.3->tensorboard>=2.4.1->-r requirements.txt (line 18)) (4.2.4)\n",
      "Requirement already satisfied: pyasn1-modules>=0.2.1 in c:\\users\\tripa\\anaconda3\\envs\\yolo_env_\\lib\\site-packages (from google-auth<2,>=1.6.3->tensorboard>=2.4.1->-r requirements.txt (line 18)) (0.2.8)\n",
      "Requirement already satisfied: requests-oauthlib>=0.7.0 in c:\\users\\tripa\\anaconda3\\envs\\yolo_env_\\lib\\site-packages (from google-auth-oauthlib<0.5,>=0.4.1->tensorboard>=2.4.1->-r requirements.txt (line 18)) (1.3.1)\n",
      "Requirement already satisfied: parso<0.9.0,>=0.8.0 in c:\\users\\tripa\\anaconda3\\envs\\yolo_env_\\lib\\site-packages (from jedi>=0.16->ipython->-r requirements.txt (line 37)) (0.8.3)\n",
      "Requirement already satisfied: importlib-metadata>=4.4 in c:\\users\\tripa\\anaconda3\\envs\\yolo_env_\\lib\\site-packages (from markdown>=2.6.8->tensorboard>=2.4.1->-r requirements.txt (line 18)) (4.12.0)\n",
      "Requirement already satisfied: wcwidth in c:\\users\\tripa\\anaconda3\\envs\\yolo_env_\\lib\\site-packages (from prompt-toolkit!=3.0.0,!=3.0.1,<3.1.0,>=2.0.0->ipython->-r requirements.txt (line 37)) (0.2.5)\n",
      "Requirement already satisfied: MarkupSafe>=2.1.1 in c:\\users\\tripa\\anaconda3\\envs\\yolo_env_\\lib\\site-packages (from werkzeug>=0.11.15->tensorboard>=2.4.1->-r requirements.txt (line 18)) (2.1.1)\n",
      "Requirement already satisfied: executing in c:\\users\\tripa\\anaconda3\\envs\\yolo_env_\\lib\\site-packages (from stack-data->ipython->-r requirements.txt (line 37)) (0.8.3)\n",
      "Requirement already satisfied: pure-eval in c:\\users\\tripa\\anaconda3\\envs\\yolo_env_\\lib\\site-packages (from stack-data->ipython->-r requirements.txt (line 37)) (0.2.2)\n",
      "Requirement already satisfied: asttokens in c:\\users\\tripa\\anaconda3\\envs\\yolo_env_\\lib\\site-packages (from stack-data->ipython->-r requirements.txt (line 37)) (2.0.5)\n",
      "Requirement already satisfied: zipp>=0.5 in c:\\users\\tripa\\anaconda3\\envs\\yolo_env_\\lib\\site-packages (from importlib-metadata>=4.4->markdown>=2.6.8->tensorboard>=2.4.1->-r requirements.txt (line 18)) (3.8.1)\n",
      "Requirement already satisfied: pyasn1<0.5.0,>=0.4.6 in c:\\users\\tripa\\anaconda3\\envs\\yolo_env_\\lib\\site-packages (from pyasn1-modules>=0.2.1->google-auth<2,>=1.6.3->tensorboard>=2.4.1->-r requirements.txt (line 18)) (0.4.8)\n",
      "Requirement already satisfied: oauthlib>=3.0.0 in c:\\users\\tripa\\anaconda3\\envs\\yolo_env_\\lib\\site-packages (from requests-oauthlib>=0.7.0->google-auth-oauthlib<0.5,>=0.4.1->tensorboard>=2.4.1->-r requirements.txt (line 18)) (3.2.0)\n",
      "Installing collected packages: pytz, tqdm, scipy, PyYAML, pyparsing, psutil, Pillow, opencv-python, kiwisolver, fonttools, cycler, torchvision, thop, pandas, packaging, matplotlib, seaborn\n",
      "Successfully installed Pillow-9.2.0 PyYAML-6.0 cycler-0.11.0 fonttools-4.34.4 kiwisolver-1.4.4 matplotlib-3.5.2 opencv-python-4.6.0.66 packaging-21.3 pandas-1.4.3 psutil-5.9.1 pyparsing-3.0.9 pytz-2022.1 scipy-1.8.1 seaborn-0.11.2 thop-0.1.1.post2207130030 torchvision-0.13.0 tqdm-4.64.0\n"
     ]
    }
   ],
   "source": [
    "%pip install -r requirements.txt"
   ]
  },
  {
   "cell_type": "code",
   "execution_count": 9,
   "metadata": {},
   "outputs": [
    {
     "name": "stdout",
     "output_type": "stream",
     "text": [
      "training images are :  266\n",
      "Validation images are :  66\n"
     ]
    }
   ],
   "source": [
    "import os\n",
    "from random import choice\n",
    "import shutil\n",
    "\n",
    "#arrays to store file names\n",
    "imgs =[]\n",
    "xmls =[]\n",
    "\n",
    "#setup dir names\n",
    "trainPath = 'F:/Projects/weapons_detect/data/images/train'\n",
    "valPath = 'F:/Projects/weapons_detect/data/images/val'\n",
    "crsPath = 'F:/Projects/weapons_detect/rawdata' #dir where images and annotations stored\n",
    "\n",
    "#setup ratio (val ratio = rest of the files in origin dir after splitting into train and test)\n",
    "train_ratio = 0.8\n",
    "val_ratio = 0.2\n",
    "\n",
    "\n",
    "#total count of imgs\n",
    "totalImgCount = len(os.listdir(crsPath))/2\n",
    "\n",
    "#soring files to corresponding arrays\n",
    "for (dirname, dirs, files) in os.walk(crsPath):\n",
    "    for filename in files:\n",
    "        if filename.endswith('.txt'):\n",
    "            xmls.append(filename)\n",
    "        else:\n",
    "            imgs.append(filename)\n",
    "\n",
    "\n",
    "#counting range for cycles\n",
    "countForTrain = int(len(imgs)*train_ratio)\n",
    "countForVal = int(len(imgs)*val_ratio)\n",
    "print(\"training images are : \",countForTrain)\n",
    "print(\"Validation images are : \",countForVal)"
   ]
  },
  {
   "cell_type": "code",
   "execution_count": 10,
   "metadata": {},
   "outputs": [
    {
     "data": {
      "text/plain": [
       "'F:/Projects/weapons_detect/data/images/val\\\\rawdata'"
      ]
     },
     "execution_count": 10,
     "metadata": {},
     "output_type": "execute_result"
    }
   ],
   "source": [
    "\n",
    "trainimagePath = 'F:/Projects/weapons_detect/data/images/train'\n",
    "trainlabelPath = 'F:/Projects/weapons_detect/data/labels/train'\n",
    "valimagePath = 'F:/Projects/weapons_detect/data/images/val'\n",
    "vallabelPath = 'F:/Projects/weapons_detect/data/labels/val'\n",
    "#cycle for train dir\n",
    "for x in range(countForTrain):\n",
    "\n",
    "    fileJpg = choice(imgs) # get name of random image from origin dir\n",
    "    fileXml = fileJpg[:-4] +'txt' # get name of corresponding annotation file\n",
    "\n",
    "    #move both files into train dir\n",
    "    #shutil.move(os.path.join(crsPath, fileJpg), os.path.join(trainimagePath, fileJpg))\n",
    "    #shutil.move(os.path.join(crsPath, fileXml), os.path.join(trainlabelPath, fileXml))\n",
    "    shutil.copy(os.path.join(crsPath, fileJpg), os.path.join(trainimagePath, fileJpg))\n",
    "    shutil.copy(os.path.join(crsPath, fileXml), os.path.join(trainlabelPath, fileXml))\n",
    "\n",
    "\n",
    "    #remove files from arrays\n",
    "    imgs.remove(fileJpg)\n",
    "    xmls.remove(fileXml)\n",
    "\n",
    "\n",
    "\n",
    "#cycle for test dir   \n",
    "for x in range(countForVal):\n",
    "\n",
    "    fileJpg = choice(imgs) # get name of random image from origin dir\n",
    "    fileXml = fileJpg[:-4] +'txt' # get name of corresponding annotation file\n",
    "\n",
    "    #move both files into train dir\n",
    "    #shutil.move(os.path.join(crsPath, fileJpg), os.path.join(valimagePath, fileJpg))\n",
    "    #shutil.move(os.path.join(crsPath, fileXml), os.path.join(vallabelPath, fileXml))\n",
    "    shutil.copy(os.path.join(crsPath, fileJpg), os.path.join(valimagePath, fileJpg))\n",
    "    shutil.copy(os.path.join(crsPath, fileXml), os.path.join(vallabelPath, fileXml))\n",
    "    \n",
    "    #remove files from arrays\n",
    "    imgs.remove(fileJpg)\n",
    "    xmls.remove(fileXml)\n",
    "\n",
    "#rest of files will be validation files, so rename origin dir to val dir\n",
    "#os.rename(crsPath, valPath)\n",
    "shutil.move(crsPath, valPath) \n",
    "\n",
    "\n"
   ]
  },
  {
   "cell_type": "code",
   "execution_count": 11,
   "metadata": {},
   "outputs": [
    {
     "name": "stdout",
     "output_type": "stream",
     "text": [
      "^C\n"
     ]
    }
   ],
   "source": [
    "!python train.py --img 320 --batch 16 --epochs 10 --data dataset.yaml --weights yolov5s.pt --cache verbose=1"
   ]
  },
  {
   "cell_type": "code",
   "execution_count": null,
   "metadata": {},
   "outputs": [],
   "source": []
  }
 ],
 "metadata": {
  "kernelspec": {
   "display_name": "Python 3.9.12 ('yolo_env_')",
   "language": "python",
   "name": "python3"
  },
  "language_info": {
   "codemirror_mode": {
    "name": "ipython",
    "version": 3
   },
   "file_extension": ".py",
   "mimetype": "text/x-python",
   "name": "python",
   "nbconvert_exporter": "python",
   "pygments_lexer": "ipython3",
   "version": "3.9.12"
  },
  "orig_nbformat": 4,
  "vscode": {
   "interpreter": {
    "hash": "1c67a409154ba6fd8e4a36a2333e2ec8891c09fc0e722eabc7847fe568cf2849"
   }
  }
 },
 "nbformat": 4,
 "nbformat_minor": 2
}
